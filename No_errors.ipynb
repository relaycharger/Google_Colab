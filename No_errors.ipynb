{
  "cells": [
    {
      "cell_type": "code",
      "execution_count": null,
      "metadata": {
        "id": "IOD3VS2JJph9",
        "colab": {
          "base_uri": "https://localhost:8080/"
        },
        "outputId": "bff33ec1-de00-457b-db61-9793c890fd51"
      },
      "outputs": [
        {
          "output_type": "stream",
          "name": "stdout",
          "text": [
            "Looking in indexes: https://pypi.org/simple, https://us-python.pkg.dev/colab-wheels/public/simple/\n",
            "Requirement already satisfied: pandas in /usr/local/lib/python3.10/dist-packages (1.5.3)\n",
            "Requirement already satisfied: openpyxl in /usr/local/lib/python3.10/dist-packages (3.0.10)\n",
            "Requirement already satisfied: scikit-image in /usr/local/lib/python3.10/dist-packages (0.19.3)\n",
            "Requirement already satisfied: matplotlib in /usr/local/lib/python3.10/dist-packages (3.7.1)\n",
            "Requirement already satisfied: python-dateutil>=2.8.1 in /usr/local/lib/python3.10/dist-packages (from pandas) (2.8.2)\n",
            "Requirement already satisfied: pytz>=2020.1 in /usr/local/lib/python3.10/dist-packages (from pandas) (2022.7.1)\n",
            "Requirement already satisfied: numpy>=1.21.0 in /usr/local/lib/python3.10/dist-packages (from pandas) (1.22.4)\n",
            "Requirement already satisfied: et-xmlfile in /usr/local/lib/python3.10/dist-packages (from openpyxl) (1.1.0)\n",
            "Requirement already satisfied: scipy>=1.4.1 in /usr/local/lib/python3.10/dist-packages (from scikit-image) (1.10.1)\n",
            "Requirement already satisfied: networkx>=2.2 in /usr/local/lib/python3.10/dist-packages (from scikit-image) (3.1)\n",
            "Requirement already satisfied: pillow!=7.1.0,!=7.1.1,!=8.3.0,>=6.1.0 in /usr/local/lib/python3.10/dist-packages (from scikit-image) (8.4.0)\n",
            "Requirement already satisfied: imageio>=2.4.1 in /usr/local/lib/python3.10/dist-packages (from scikit-image) (2.25.1)\n",
            "Requirement already satisfied: tifffile>=2019.7.26 in /usr/local/lib/python3.10/dist-packages (from scikit-image) (2023.4.12)\n",
            "Requirement already satisfied: PyWavelets>=1.1.1 in /usr/local/lib/python3.10/dist-packages (from scikit-image) (1.4.1)\n",
            "Requirement already satisfied: packaging>=20.0 in /usr/local/lib/python3.10/dist-packages (from scikit-image) (23.1)\n",
            "Requirement already satisfied: contourpy>=1.0.1 in /usr/local/lib/python3.10/dist-packages (from matplotlib) (1.0.7)\n",
            "Requirement already satisfied: cycler>=0.10 in /usr/local/lib/python3.10/dist-packages (from matplotlib) (0.11.0)\n",
            "Requirement already satisfied: fonttools>=4.22.0 in /usr/local/lib/python3.10/dist-packages (from matplotlib) (4.39.3)\n",
            "Requirement already satisfied: kiwisolver>=1.0.1 in /usr/local/lib/python3.10/dist-packages (from matplotlib) (1.4.4)\n",
            "Requirement already satisfied: pyparsing>=2.3.1 in /usr/local/lib/python3.10/dist-packages (from matplotlib) (3.0.9)\n",
            "Requirement already satisfied: six>=1.5 in /usr/local/lib/python3.10/dist-packages (from python-dateutil>=2.8.1->pandas) (1.16.0)\n"
          ]
        }
      ],
      "source": [
        "pip install pandas openpyxl scikit-image matplotlib"
      ]
    },
    {
      "cell_type": "code",
      "execution_count": null,
      "metadata": {
        "id": "53GjkRNSMdzV"
      },
      "outputs": [],
      "source": [
        "import pandas as pd\n",
        "from openpyxl import Workbook\n",
        "from openpyxl.styles import PatternFill\n",
        "from skimage import color\n",
        "import numpy as np\n",
        "import matplotlib.colors as mcolors"
      ]
    },
    {
      "cell_type": "code",
      "execution_count": null,
      "metadata": {
        "id": "DrDWIsMlRhpw"
      },
      "outputs": [],
      "source": [
        "# Read the CSV file\n",
        "#df = pd.read_csv('/content/sample_data/Lab_values.csv')\n",
        "df = pd.read_excel('/content/Lab_values.xlsx')\n",
        "\n",
        "\n",
        "\n",
        "\n",
        "\n"
      ]
    },
    {
      "cell_type": "code",
      "execution_count": null,
      "metadata": {
        "id": "u3bVUx5uymMs"
      },
      "outputs": [],
      "source": [
        "# Extract the Lab values\n",
        "lab_values = df[['L', 'a', 'b']]\n",
        "names = df['Name']\n",
        "\n",
        "# Convert Lab values to aRGB hex format\n",
        "def lab_to_argb_hex(L, a, b):\n",
        "    lab = [[L, a, b]]\n",
        "    rgb = color.lab2rgb(lab)[0]\n",
        "    rgb_scaled = np.clip(rgb * 255, 0, 255).astype(int)\n",
        "    argb_hex = '{:02X}{:02X}{:02X}{:02X}'.format(\n",
        "        255, rgb_scaled[0], rgb_scaled[1], rgb_scaled[2]\n",
        "    )\n",
        "    return argb_hex\n",
        "\n",
        "# Create a new Excel workbook and select the active sheet\n",
        "workbook = Workbook()\n",
        "sheet = workbook.active\n",
        "\n",
        "# Create a color swatch in Excel\n",
        "for row, (lab, name) in enumerate(zip(lab_values.values, names), start=1):\n",
        "    # Convert Lab to aRGB hex format\n",
        "    argb_hex_value = lab_to_argb_hex(*lab)\n",
        "    fill = PatternFill(start_color=argb_hex_value, end_color=argb_hex_value, fill_type='solid')\n",
        "    sheet.cell(row=row, column=1).fill = fill\n",
        "    sheet.cell(row=row, column=2).value = name\n",
        "    # Set column widths\n",
        "sheet.column_dimensions['A'].width = 10\n",
        "sheet.column_dimensions['B'].width = 20\n",
        "\n",
        "# Save the workbook to an Excel file\n",
        "workbook.save('color_swatch.xlsx')"
      ]
    }
  ],
  "metadata": {
    "colab": {
      "provenance": []
    },
    "kernelspec": {
      "display_name": "Python 3",
      "name": "python3"
    },
    "language_info": {
      "name": "python"
    }
  },
  "nbformat": 4,
  "nbformat_minor": 0
}