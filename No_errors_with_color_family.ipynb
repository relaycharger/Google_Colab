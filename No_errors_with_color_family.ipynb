{
  "cells": [
    {
      "cell_type": "markdown",
      "source": [
        "#The definition of the color families isn't inclusive enough"
      ],
      "metadata": {
        "id": "OG2RRAgYS4IT"
      }
    },
    {
      "cell_type": "code",
      "execution_count": null,
      "metadata": {
        "id": "IOD3VS2JJph9"
      },
      "outputs": [],
      "source": [
        "pip install pandas openpyxl scikit-image matplotlib"
      ]
    },
    {
      "cell_type": "code",
      "execution_count": null,
      "metadata": {
        "id": "53GjkRNSMdzV"
      },
      "outputs": [],
      "source": [
        "import pandas as pd\n",
        "from openpyxl import Workbook\n",
        "from openpyxl.styles import PatternFill\n",
        "from skimage import color\n",
        "import numpy as np\n",
        "import matplotlib.colors as mcolors"
      ]
    },
    {
      "cell_type": "code",
      "source": [
        "df = pd.read_excel('/content/Test_swatches.xlsx')\n",
        "\n",
        "# Extract the Lab values\n",
        "lab_values = df[['L', 'a', 'b']]\n",
        "names = df['Name']\n",
        "\n",
        "# Convert Lab values to aRGB hex format\n",
        "def lab_to_argb_hex(L, a, b):\n",
        "    lab = [[L, a, b]]\n",
        "    rgb = color.lab2rgb(np.array(lab)[:, np.newaxis, :])[0, 0, :]\n",
        "    rgb_scaled = np.clip(rgb * 255, 0, 255).astype(int)\n",
        "    argb_hex = '{:02X}{:02X}{:02X}{:02X}'.format(\n",
        "        255, rgb_scaled[0], rgb_scaled[1], rgb_scaled[2]\n",
        "    )\n",
        "    return argb_hex\n",
        "\n",
        "# Create a new Excel workbook and select the active sheet\n",
        "workbook = Workbook()\n",
        "sheet = workbook.active\n",
        "\n",
        "# Create column headers for Lab values\n",
        "sheet.cell(row=1, column=1).value = 'L'\n",
        "sheet.cell(row=1, column=2).value = 'a'\n",
        "sheet.cell(row=1, column=3).value = 'b'\n",
        "sheet.cell(row=1, column=4).value = 'Name'\n",
        "sheet.cell(row=1, column=5).value = 'Color'\n",
        "\n",
        "# Create a color swatch in Excel\n",
        "for row, (lab, name) in enumerate(zip(lab_values.values, names), start=2):\n",
        "    # Convert Lab to aRGB hex format\n",
        "    argb_hex_value = lab_to_argb_hex(*lab)\n",
        "    fill = PatternFill(start_color=argb_hex_value, end_color=argb_hex_value, fill_type='solid')\n",
        "    sheet.cell(row=row, column=1).value = lab[0]  # L\n",
        "    sheet.cell(row=row, column=2).value = lab[1]  # a\n",
        "    sheet.cell(row=row, column=3).value = lab[2]  # b\n",
        "    sheet.cell(row=row, column=4).value = name  # Name\n",
        "    sheet.cell(row=row, column=5).fill = fill  # Color\n",
        "\n",
        "    # Set column widths\n",
        "sheet.column_dimensions['A'].width = 10\n",
        "sheet.column_dimensions['B'].width = 10\n",
        "sheet.column_dimensions['C'].width = 10\n",
        "sheet.column_dimensions['D'].width = 20\n",
        "sheet.column_dimensions['E'].width = 10\n",
        "\n",
        "# Save the workbook to an Excel file\n",
        "workbook.save('color_swatch.xlsx')\n",
        "#This modified code creates separate columns for each Lab value (L, a, and b) in the Excel sheet. The Lab values are populated in their respective columns, along with the Name and Color columns. The column widths are adjusted accordingly.\n",
        "\n"
      ],
      "metadata": {
        "id": "x-p0ws8TQJu0"
      },
      "execution_count": null,
      "outputs": []
    },
    {
      "cell_type": "markdown",
      "source": [
        "##The color family part starts here. The above code creates the swatch and retains the Lab values"
      ],
      "metadata": {
        "id": "D9MMP8Q11iM_"
      }
    },
    {
      "cell_type": "code",
      "source": [
        "# Define the Lab value ranges for each color family\n",
        "#i'm playing around with these values\n",
        "color_families = {\n",
        "    'White': {\n",
        "        'L': (95, 100),\n",
        "        'a': (-5, 5),\n",
        "        'b': (-5, 5),\n",
        "        'C': (0, 5)\n",
        "    },\n",
        "    'Nude': {\n",
        "        'L': (70, 85),\n",
        "        'a': (-10, 10),\n",
        "        'b': (-10, 10),\n",
        "        'C': (0, 15)\n",
        "    },\n",
        "    'Pink': {\n",
        "        'L': (70, 85),\n",
        "        'a': (-10, 10),\n",
        "        'b': (10, 30),\n",
        "        'C': (10, 35)\n",
        "    },\n",
        "    'Coral / Orange': {\n",
        "        'L': (60, 75),\n",
        "        'a': (10, 30),\n",
        "        'b': (30, 50),\n",
        "        'C': (20, 55)\n",
        "    },\n",
        "    'Red': {\n",
        "        'L': (40, 60),\n",
        "        'a': (40, 60),\n",
        "        'b': (10, 30),\n",
        "        'C': (40, 65)\n",
        "    },\n",
        "    'Purple': {\n",
        "        'L': (40, 60),\n",
        "        'a': (-10, 10),\n",
        "        'b': (-30, -10),\n",
        "        'C': (15, 35)\n",
        "    },\n",
        "    'Blue': {\n",
        "        'L': (40, 60),\n",
        "        'a': (-30, -10),\n",
        "        'b': (-30, -10),\n",
        "        'C': (15, 35)\n",
        "    },\n",
        "    'Yellow/Gold': {\n",
        "        'L': (70, 85),\n",
        "        'a': (10, 30),\n",
        "        'b': (40, 60),\n",
        "        'C': (40, 65)\n",
        "    },\n",
        "    'Grey': {\n",
        "        'L': (40, 60),\n",
        "        'a': (0, 0),\n",
        "        'b': (0, 0),\n",
        "        'C': (0, 5)\n",
        "    },\n",
        "    'Green': {\n",
        "        'L': (40, 60),\n",
        "        'a': (-40, -10),\n",
        "        'b': (-10, 10),\n",
        "        'C': (30, 55)\n",
        "    }\n",
        "}\n",
        "\n",
        "\n",
        "# Function to check if Lab values fall within the specified ranges\n",
        "def check_color_family(lab):\n",
        "    for color_family, ranges in color_families.items():\n",
        "        l_range = ranges['L']\n",
        "        a_range = ranges['a']\n",
        "        b_range = ranges['b']\n",
        "        if l_range[0] <= lab[0] <= l_range[1] and a_range[0] <= lab[1] <= a_range[1] and b_range[0] <= lab[2] <= b_range[1]:\n",
        "            return color_family\n",
        "    return None\n",
        "\n",
        "# Load the color swatches data from Excel file\n",
        "df = pd.read_excel('/content/color_swatch.xlsx')\n",
        "\n",
        "# Add a new column for color family\n",
        "df['Color Family'] = df.apply(lambda row: check_color_family(row[['L', 'a', 'b']]), axis=1)\n",
        "\n",
        "# Save the updated data to Excel file\n",
        "df.to_excel('color_swatches_with_family.xlsx', index=False)\n",
        "#In this updated code, the Lab value ranges include values that cross zero. For example, a_range = (-10, 10) indicates a range from -10 to 10, and b_range = (-30, -10) indicates a range from -30 to -10. You can adjust the ranges as needed.\n",
        "\n",
        "#Please replace 'color_swatches.xlsx' with the actual filename and path of your color swatches Excel file. The updated data will be saved in a new Excel file named 'color_swatches_with_family.xlsx'.\n",
        "\n",
        "\n",
        "\n",
        "\n",
        "\n",
        "\n",
        "\n",
        "\n"
      ],
      "metadata": {
        "id": "eKSpvdyoR1u7"
      },
      "execution_count": null,
      "outputs": []
    }
  ],
  "metadata": {
    "colab": {
      "provenance": []
    },
    "kernelspec": {
      "display_name": "Python 3",
      "name": "python3"
    },
    "language_info": {
      "name": "python"
    }
  },
  "nbformat": 4,
  "nbformat_minor": 0
}